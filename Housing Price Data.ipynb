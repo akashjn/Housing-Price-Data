{
 "cells": [
  {
   "cell_type": "code",
   "execution_count": 488,
   "metadata": {},
   "outputs": [],
   "source": [
    "\"\"\"\n",
    "SVM, Random Forest, Adaboost and Linear Regression\n",
    "for Housing Prices prediction\n",
    "\"\"\"\n",
    "import pandas as pd\n",
    "import numpy as np\n",
    "import matplotlib.pyplot as plt\n",
    "from sklearn.model_selection import train_test_split\n",
    "from sklearn.metrics import mean_absolute_error"
   ]
  },
  {
   "cell_type": "code",
   "execution_count": 489,
   "metadata": {},
   "outputs": [],
   "source": [
    "#training data; header not given with the data\n",
    "X = pd.read_csv('./Data/train_x.csv',header=None)\n",
    "y = pd.read_csv('./Data/train_y.csv',header=None)\n",
    "y = y.values.ravel()"
   ]
  },
  {
   "cell_type": "code",
   "execution_count": 490,
   "metadata": {},
   "outputs": [
    {
     "data": {
      "text/html": [
       "<div>\n",
       "<style scoped>\n",
       "    .dataframe tbody tr th:only-of-type {\n",
       "        vertical-align: middle;\n",
       "    }\n",
       "\n",
       "    .dataframe tbody tr th {\n",
       "        vertical-align: top;\n",
       "    }\n",
       "\n",
       "    .dataframe thead th {\n",
       "        text-align: right;\n",
       "    }\n",
       "</style>\n",
       "<table border=\"1\" class=\"dataframe\">\n",
       "  <thead>\n",
       "    <tr style=\"text-align: right;\">\n",
       "      <th></th>\n",
       "      <th>0</th>\n",
       "      <th>1</th>\n",
       "      <th>2</th>\n",
       "      <th>3</th>\n",
       "      <th>4</th>\n",
       "      <th>5</th>\n",
       "      <th>6</th>\n",
       "      <th>7</th>\n",
       "      <th>8</th>\n",
       "      <th>9</th>\n",
       "      <th>...</th>\n",
       "      <th>230</th>\n",
       "      <th>231</th>\n",
       "      <th>232</th>\n",
       "      <th>233</th>\n",
       "      <th>234</th>\n",
       "      <th>235</th>\n",
       "      <th>236</th>\n",
       "      <th>237</th>\n",
       "      <th>238</th>\n",
       "      <th>239</th>\n",
       "    </tr>\n",
       "  </thead>\n",
       "  <tbody>\n",
       "    <tr>\n",
       "      <th>count</th>\n",
       "      <td>2000.000000</td>\n",
       "      <td>2000.000000</td>\n",
       "      <td>2000.000000</td>\n",
       "      <td>2000.000000</td>\n",
       "      <td>2000.000000</td>\n",
       "      <td>2000.000000</td>\n",
       "      <td>2000.000000</td>\n",
       "      <td>2000.000000</td>\n",
       "      <td>2000.000000</td>\n",
       "      <td>2000.000000</td>\n",
       "      <td>...</td>\n",
       "      <td>2000.000000</td>\n",
       "      <td>2000.000000</td>\n",
       "      <td>2000.000000</td>\n",
       "      <td>2000.000000</td>\n",
       "      <td>2000.000000</td>\n",
       "      <td>2000.000000</td>\n",
       "      <td>2000.000000</td>\n",
       "      <td>2000.000000</td>\n",
       "      <td>2000.0</td>\n",
       "      <td>2000.000000</td>\n",
       "    </tr>\n",
       "    <tr>\n",
       "      <th>mean</th>\n",
       "      <td>7.047500</td>\n",
       "      <td>69.585750</td>\n",
       "      <td>9938.979500</td>\n",
       "      <td>0.995500</td>\n",
       "      <td>0.989500</td>\n",
       "      <td>1.949000</td>\n",
       "      <td>0.048500</td>\n",
       "      <td>6.136000</td>\n",
       "      <td>4.592000</td>\n",
       "      <td>1972.229000</td>\n",
       "      <td>...</td>\n",
       "      <td>0.033000</td>\n",
       "      <td>0.003000</td>\n",
       "      <td>0.002000</td>\n",
       "      <td>0.010500</td>\n",
       "      <td>0.003000</td>\n",
       "      <td>0.003000</td>\n",
       "      <td>0.065000</td>\n",
       "      <td>0.002000</td>\n",
       "      <td>0.0</td>\n",
       "      <td>0.878500</td>\n",
       "    </tr>\n",
       "    <tr>\n",
       "      <th>std</th>\n",
       "      <td>3.748102</td>\n",
       "      <td>21.800319</td>\n",
       "      <td>7588.517492</td>\n",
       "      <td>0.066948</td>\n",
       "      <td>0.267255</td>\n",
       "      <td>1.411877</td>\n",
       "      <td>0.237014</td>\n",
       "      <td>1.416865</td>\n",
       "      <td>1.132774</td>\n",
       "      <td>30.203521</td>\n",
       "      <td>...</td>\n",
       "      <td>0.178681</td>\n",
       "      <td>0.054704</td>\n",
       "      <td>0.044688</td>\n",
       "      <td>0.101956</td>\n",
       "      <td>0.054704</td>\n",
       "      <td>0.054704</td>\n",
       "      <td>0.246588</td>\n",
       "      <td>0.044688</td>\n",
       "      <td>0.0</td>\n",
       "      <td>0.326789</td>\n",
       "    </tr>\n",
       "    <tr>\n",
       "      <th>min</th>\n",
       "      <td>0.000000</td>\n",
       "      <td>21.000000</td>\n",
       "      <td>1300.000000</td>\n",
       "      <td>0.000000</td>\n",
       "      <td>0.000000</td>\n",
       "      <td>0.000000</td>\n",
       "      <td>0.000000</td>\n",
       "      <td>1.000000</td>\n",
       "      <td>0.000000</td>\n",
       "      <td>1872.000000</td>\n",
       "      <td>...</td>\n",
       "      <td>0.000000</td>\n",
       "      <td>0.000000</td>\n",
       "      <td>0.000000</td>\n",
       "      <td>0.000000</td>\n",
       "      <td>0.000000</td>\n",
       "      <td>0.000000</td>\n",
       "      <td>0.000000</td>\n",
       "      <td>0.000000</td>\n",
       "      <td>0.0</td>\n",
       "      <td>0.000000</td>\n",
       "    </tr>\n",
       "    <tr>\n",
       "      <th>25%</th>\n",
       "      <td>5.000000</td>\n",
       "      <td>60.000000</td>\n",
       "      <td>7439.000000</td>\n",
       "      <td>1.000000</td>\n",
       "      <td>1.000000</td>\n",
       "      <td>0.000000</td>\n",
       "      <td>0.000000</td>\n",
       "      <td>5.000000</td>\n",
       "      <td>4.000000</td>\n",
       "      <td>1955.000000</td>\n",
       "      <td>...</td>\n",
       "      <td>0.000000</td>\n",
       "      <td>0.000000</td>\n",
       "      <td>0.000000</td>\n",
       "      <td>0.000000</td>\n",
       "      <td>0.000000</td>\n",
       "      <td>0.000000</td>\n",
       "      <td>0.000000</td>\n",
       "      <td>0.000000</td>\n",
       "      <td>0.0</td>\n",
       "      <td>1.000000</td>\n",
       "    </tr>\n",
       "    <tr>\n",
       "      <th>50%</th>\n",
       "      <td>5.000000</td>\n",
       "      <td>70.000000</td>\n",
       "      <td>9475.000000</td>\n",
       "      <td>1.000000</td>\n",
       "      <td>1.000000</td>\n",
       "      <td>3.000000</td>\n",
       "      <td>0.000000</td>\n",
       "      <td>6.000000</td>\n",
       "      <td>4.000000</td>\n",
       "      <td>1975.000000</td>\n",
       "      <td>...</td>\n",
       "      <td>0.000000</td>\n",
       "      <td>0.000000</td>\n",
       "      <td>0.000000</td>\n",
       "      <td>0.000000</td>\n",
       "      <td>0.000000</td>\n",
       "      <td>0.000000</td>\n",
       "      <td>0.000000</td>\n",
       "      <td>0.000000</td>\n",
       "      <td>0.0</td>\n",
       "      <td>1.000000</td>\n",
       "    </tr>\n",
       "    <tr>\n",
       "      <th>75%</th>\n",
       "      <td>10.000000</td>\n",
       "      <td>80.000000</td>\n",
       "      <td>11475.750000</td>\n",
       "      <td>1.000000</td>\n",
       "      <td>1.000000</td>\n",
       "      <td>3.000000</td>\n",
       "      <td>0.000000</td>\n",
       "      <td>7.000000</td>\n",
       "      <td>5.000000</td>\n",
       "      <td>2001.000000</td>\n",
       "      <td>...</td>\n",
       "      <td>0.000000</td>\n",
       "      <td>0.000000</td>\n",
       "      <td>0.000000</td>\n",
       "      <td>0.000000</td>\n",
       "      <td>0.000000</td>\n",
       "      <td>0.000000</td>\n",
       "      <td>0.000000</td>\n",
       "      <td>0.000000</td>\n",
       "      <td>0.0</td>\n",
       "      <td>1.000000</td>\n",
       "    </tr>\n",
       "    <tr>\n",
       "      <th>max</th>\n",
       "      <td>15.000000</td>\n",
       "      <td>313.000000</td>\n",
       "      <td>215245.000000</td>\n",
       "      <td>1.000000</td>\n",
       "      <td>2.000000</td>\n",
       "      <td>3.000000</td>\n",
       "      <td>2.000000</td>\n",
       "      <td>10.000000</td>\n",
       "      <td>8.000000</td>\n",
       "      <td>2010.000000</td>\n",
       "      <td>...</td>\n",
       "      <td>1.000000</td>\n",
       "      <td>1.000000</td>\n",
       "      <td>1.000000</td>\n",
       "      <td>1.000000</td>\n",
       "      <td>1.000000</td>\n",
       "      <td>1.000000</td>\n",
       "      <td>1.000000</td>\n",
       "      <td>1.000000</td>\n",
       "      <td>0.0</td>\n",
       "      <td>1.000000</td>\n",
       "    </tr>\n",
       "  </tbody>\n",
       "</table>\n",
       "<p>8 rows × 240 columns</p>\n",
       "</div>"
      ],
      "text/plain": [
       "               0            1              2            3            4    \\\n",
       "count  2000.000000  2000.000000    2000.000000  2000.000000  2000.000000   \n",
       "mean      7.047500    69.585750    9938.979500     0.995500     0.989500   \n",
       "std       3.748102    21.800319    7588.517492     0.066948     0.267255   \n",
       "min       0.000000    21.000000    1300.000000     0.000000     0.000000   \n",
       "25%       5.000000    60.000000    7439.000000     1.000000     1.000000   \n",
       "50%       5.000000    70.000000    9475.000000     1.000000     1.000000   \n",
       "75%      10.000000    80.000000   11475.750000     1.000000     1.000000   \n",
       "max      15.000000   313.000000  215245.000000     1.000000     2.000000   \n",
       "\n",
       "               5            6            7            8            9    ...  \\\n",
       "count  2000.000000  2000.000000  2000.000000  2000.000000  2000.000000  ...   \n",
       "mean      1.949000     0.048500     6.136000     4.592000  1972.229000  ...   \n",
       "std       1.411877     0.237014     1.416865     1.132774    30.203521  ...   \n",
       "min       0.000000     0.000000     1.000000     0.000000  1872.000000  ...   \n",
       "25%       0.000000     0.000000     5.000000     4.000000  1955.000000  ...   \n",
       "50%       3.000000     0.000000     6.000000     4.000000  1975.000000  ...   \n",
       "75%       3.000000     0.000000     7.000000     5.000000  2001.000000  ...   \n",
       "max       3.000000     2.000000    10.000000     8.000000  2010.000000  ...   \n",
       "\n",
       "               230          231          232          233          234  \\\n",
       "count  2000.000000  2000.000000  2000.000000  2000.000000  2000.000000   \n",
       "mean      0.033000     0.003000     0.002000     0.010500     0.003000   \n",
       "std       0.178681     0.054704     0.044688     0.101956     0.054704   \n",
       "min       0.000000     0.000000     0.000000     0.000000     0.000000   \n",
       "25%       0.000000     0.000000     0.000000     0.000000     0.000000   \n",
       "50%       0.000000     0.000000     0.000000     0.000000     0.000000   \n",
       "75%       0.000000     0.000000     0.000000     0.000000     0.000000   \n",
       "max       1.000000     1.000000     1.000000     1.000000     1.000000   \n",
       "\n",
       "               235          236          237     238          239  \n",
       "count  2000.000000  2000.000000  2000.000000  2000.0  2000.000000  \n",
       "mean      0.003000     0.065000     0.002000     0.0     0.878500  \n",
       "std       0.054704     0.246588     0.044688     0.0     0.326789  \n",
       "min       0.000000     0.000000     0.000000     0.0     0.000000  \n",
       "25%       0.000000     0.000000     0.000000     0.0     1.000000  \n",
       "50%       0.000000     0.000000     0.000000     0.0     1.000000  \n",
       "75%       0.000000     0.000000     0.000000     0.0     1.000000  \n",
       "max       1.000000     1.000000     1.000000     0.0     1.000000  \n",
       "\n",
       "[8 rows x 240 columns]"
      ]
     },
     "execution_count": 490,
     "metadata": {},
     "output_type": "execute_result"
    }
   ],
   "source": [
    "X.describe()"
   ]
  },
  {
   "cell_type": "code",
   "execution_count": 491,
   "metadata": {},
   "outputs": [
    {
     "data": {
      "text/plain": [
       "0       0.140189\n",
       "1       1.772671\n",
       "2      15.205306\n",
       "3     -14.817423\n",
       "4      -0.432842\n",
       "         ...    \n",
       "235    18.188802\n",
       "236     3.531691\n",
       "237    22.310278\n",
       "238     0.000000\n",
       "239    -2.318797\n",
       "Length: 240, dtype: float64"
      ]
     },
     "execution_count": 491,
     "metadata": {},
     "output_type": "execute_result"
    }
   ],
   "source": [
    "X.skew(axis = 0,skipna = True)"
   ]
  },
  {
   "cell_type": "code",
   "execution_count": 492,
   "metadata": {},
   "outputs": [
    {
     "data": {
      "image/png": "[encoded data removed]",
      "text/plain": [
       "<Figure size 432x288 with 1 Axes>"
      ]
     },
     "metadata": {
      "needs_background": "light"
     },
     "output_type": "display_data"
    }
   ],
   "source": [
    "plt.hist(X.loc[:,2],bins=1000)\n",
    "plt.show()"
   ]
  },
  {
   "cell_type": "code",
   "execution_count": 493,
   "metadata": {},
   "outputs": [
    {
     "name": "stdout",
     "output_type": "stream",
     "text": [
      "0       0.140189\n",
      "1      -1.087721\n",
      "2      -0.634198\n",
      "3     -14.817423\n",
      "4      -0.432842\n",
      "         ...    \n",
      "235    18.188802\n",
      "236     3.531691\n",
      "237    22.310278\n",
      "238     0.000000\n",
      "239    -2.318797\n",
      "Length: 240, dtype: float64\n"
     ]
    }
   ],
   "source": [
    "# transform some skewed features columns \n",
    "X.loc[:,1]=np.log(X.loc[:,1])\n",
    "X.loc[:,2]=np.log(X.loc[:,2])\n",
    "#X.describe()\n",
    "print(X.skew(axis = 0,skipna = True))\n"
   ]
  },
  {
   "cell_type": "code",
   "execution_count": 494,
   "metadata": {},
   "outputs": [
    {
     "data": {
      "image/png": "[encoded data removed]",
      "text/plain": [
       "<Figure size 432x288 with 1 Axes>"
      ]
     },
     "metadata": {
      "needs_background": "light"
     },
     "output_type": "display_data"
    }
   ],
   "source": [
    "plt.hist(X.loc[:,2],bins=1000)\n",
    "plt.show()"
   ]
  },
  {
   "cell_type": "code",
   "execution_count": 495,
   "metadata": {},
   "outputs": [],
   "source": [
    "#Scale training data \n",
    "from sklearn.preprocessing import MinMaxScaler\n",
    "scaler=MinMaxScaler()\n",
    "X=scaler.fit_transform(X)\n",
    "\n",
    "#train test split data (given)\n",
    "x_train, x_test, y_train, y_test = train_test_split(X, y, test_size=0.20, random_state=42)\n",
    "#x_train = pd.DataFrame(data=x_train)\n",
    "#x_test = pd.DataFrame(data=x_test)"
   ]
  },
  {
   "cell_type": "code",
   "execution_count": 496,
   "metadata": {},
   "outputs": [
    {
     "name": "stdout",
     "output_type": "stream",
     "text": [
      "gridSearchCV, best mae = -16011.071615965\n",
      "gridSearchCV, best param.= {'gamma': 0.1, 'C': 10000, 'kernel': 'linear'}\n",
      "19175.924368882796\n"
     ]
    }
   ],
   "source": [
    "# Grid Search CV on Linear and RBF SVM\n",
    "from sklearn.svm import SVR\n",
    "from sklearn.model_selection import GridSearchCV\n",
    "\n",
    "base_estimator=np.array([10000,2000,100,1])\n",
    "gamma_range=np.array([0.1])\n",
    "kernel_range=np.array(['rbf','linear'])\n",
    "param_grid=dict(gamma=gamma_range,C=base_estimator,kernel=kernel_range)\n",
    "grid = GridSearchCV(SVR(), param_grid=param_grid, cv=5,scoring='neg_mean_absolute_error')\n",
    "grid.fit(x_train,y_train)\n",
    "#print('parameter=',grid.cv_results_['params'])\n",
    "#print('mean test score=',grid.cv_results_['mean_test_score'])\n",
    "print('gridSearchCV, best mae =',grid.best_score_)\n",
    "print('gridSearchCV, best param.=',grid.best_params_)\n",
    "svm=grid.best_estimator_\n",
    "y_predict=svm.predict(x_test)\n",
    "print(mean_absolute_error(y_test, y_predict))\n",
    "#write_csv(y_predict,'linear_svm.csv')"
   ]
  },
  {
   "cell_type": "code",
   "execution_count": 497,
   "metadata": {},
   "outputs": [
    {
     "data": {
      "image/png": "[encoded data removed]",
      "text/plain": [
       "<Figure size 432x288 with 1 Axes>"
      ]
     },
     "metadata": {
      "needs_background": "light"
     },
     "output_type": "display_data"
    }
   ],
   "source": [
    "# Predicted vs Actual values\n",
    "plt.scatter(y_test/100000,y_predict/100000,color='red')\n",
    "plt.plot([0,5],[0,5])\n",
    "plt.xlabel(\"y_test/100000\")\n",
    "plt.ylabel(\"y_predict/100000\")\n",
    "plt.text(0, 5,'MAE='+np.array2string(mean_absolute_error(y_test, y_predict)))\n",
    "plt.show()"
   ]
  },
  {
   "cell_type": "code",
   "execution_count": 498,
   "metadata": {},
   "outputs": [
    {
     "name": "stdout",
     "output_type": "stream",
     "text": [
      "gridSearchCV, best randomforest mae = -14671.915437499998\n",
      "gridSearchCV, best randomforest param.= {'max_depth': 40, 'bootstrap': False, 'n_estimators': 400, 'min_samples_leaf': 1, 'max_features': 50}\n",
      "16894.91689375\n"
     ]
    }
   ],
   "source": [
    "# Random Forest\n",
    "from sklearn.ensemble import RandomForestRegressor\n",
    "\n",
    "# Grid Search CV\n",
    "n_esti=np.array([100,200,350,400])\n",
    "maxfeat=np.array([20,30,40,50,60,100])\n",
    "maxdepth=np.array([25,30,40,60])\n",
    "minsample_leaf=np.array([1])\n",
    "bootstrap=[False]\n",
    "\n",
    "param_grid=dict(n_estimators=n_esti,max_features=maxfeat,max_depth=maxdepth,min_samples_leaf=minsample_leaf,bootstrap=bootstrap)\n",
    "\n",
    "grid = GridSearchCV(RandomForestRegressor(), param_grid=param_grid, cv=5,scoring='neg_mean_absolute_error')\n",
    "grid.fit(x_train,y_train)\n",
    "\n",
    "#print('parameter=',grid.cv_results_['params'])\n",
    "#print('mean test score=',grid.cv_results_['mean_test_score'])\n",
    "print('gridSearchCV, best randomforest mae =',grid.best_score_)\n",
    "print('gridSearchCV, best randomforest param.=',grid.best_params_)\n",
    "\n",
    "randfor=grid.best_estimator_\n",
    "\n",
    "y_predict=randfor.predict(x_test)\n",
    "print(mean_absolute_error(y_test, y_predict))"
   ]
  },
  {
   "cell_type": "code",
   "execution_count": 499,
   "metadata": {},
   "outputs": [
    {
     "data": {
      "image/png": "[encoded data removed]",
      "text/plain": [
       "<Figure size 432x288 with 1 Axes>"
      ]
     },
     "metadata": {
      "needs_background": "light"
     },
     "output_type": "display_data"
    }
   ],
   "source": [
    "# Predicted vs Actual values\n",
    "plt.scatter(y_test/100000,y_predict/100000,color='red')\n",
    "plt.plot([0,5],[0,5])\n",
    "plt.xlabel(\"y_test/100000\")\n",
    "plt.ylabel(\"y_predict/100000\")\n",
    "plt.text(0, 5,'MAE='+np.array2string(mean_absolute_error(y_test, y_predict)))\n",
    "plt.show()"
   ]
  },
  {
   "cell_type": "code",
   "execution_count": 500,
   "metadata": {},
   "outputs": [
    {
     "name": "stdout",
     "output_type": "stream",
     "text": [
      "gridSearchCV, best adaboost mae = -15079.81125\n",
      "gridSearchCV, best adaboost param.= {'learning_rate': 2.0, 'n_estimators': 150, 'loss': 'exponential'}\n",
      "17371.535\n"
     ]
    }
   ],
   "source": [
    "from sklearn.ensemble import AdaBoostRegressor\n",
    "from sklearn.tree import DecisionTreeRegressor\n",
    "\n",
    "ABR=AdaBoostRegressor(base_estimator=DecisionTreeRegressor(max_depth=35))\n",
    "\n",
    "#GridSearch CV\n",
    "n_esti=np.array([10,25,50,100,150,175])\n",
    "learn_rate=np.array([0.1,0.5,1,2,5])\n",
    "loss_fn=np.array(['linear','exponential'])\n",
    "param_grid=dict(n_estimators=n_esti,learning_rate=learn_rate,loss=loss_fn)\n",
    "\n",
    "grid = GridSearchCV(ABR, param_grid=param_grid, cv=5,scoring='neg_mean_absolute_error')\n",
    "grid.fit(x_train,y_train)\n",
    "\n",
    "#print('parameter=',grid.cv_results_['params'])\n",
    "#print('mean test score=',grid.cv_results_['mean_test_score'])\n",
    "print('gridSearchCV, best adaboost mae =',grid.best_score_)\n",
    "print('gridSearchCV, best adaboost param.=',grid.best_params_)\n",
    "\n",
    "adb=grid.best_estimator_\n",
    "y_predict=adb.predict(x_test)\n",
    "print(mean_absolute_error(y_test, y_predict))"
   ]
  },
  {
   "cell_type": "code",
   "execution_count": 501,
   "metadata": {},
   "outputs": [
    {
     "data": {
      "image/png": "[encoded data removed]",
      "text/plain": [
       "<Figure size 432x288 with 1 Axes>"
      ]
     },
     "metadata": {
      "needs_background": "light"
     },
     "output_type": "display_data"
    }
   ],
   "source": [
    "# Predicted vs Actual values\n",
    "plt.scatter(y_test/100000,y_predict/100000,color='red')\n",
    "plt.plot([0,5],[0,5])\n",
    "plt.xlabel(\"y_test/100000\")\n",
    "plt.ylabel(\"y_predict/100000\")\n",
    "plt.text(0, 5,'MAE='+np.array2string(mean_absolute_error(y_test, y_predict)))\n",
    "plt.show()"
   ]
  },
  {
   "cell_type": "code",
   "execution_count": 502,
   "metadata": {},
   "outputs": [],
   "source": [
    "#Linerar Regression without regularization\n",
    "from sklearn import linear_model\n",
    "ols=linear_model.LinearRegression(fit_intercept=True,normalize=False)\n",
    "    \n",
    "ols.fit(x_train,y_train)\n",
    "\n",
    "y_prediction_ols = ols.predict(x_test)\n",
    "\n",
    "mae_OLS=mean_absolute_error(y_test,y_prediction_ols)"
   ]
  },
  {
   "cell_type": "code",
   "execution_count": 503,
   "metadata": {},
   "outputs": [
    {
     "data": {
      "image/png": "[encoded data removed]",
      "text/plain": [
       "<Figure size 432x288 with 1 Axes>"
      ]
     },
     "metadata": {
      "needs_background": "light"
     },
     "output_type": "display_data"
    }
   ],
   "source": [
    "# Predicted vs Actual values\n",
    "plt.scatter(y_test/100000,y_prediction_ols/100000,color='red')\n",
    "plt.plot([0,5],[0,5])\n",
    "plt.xlabel(\"y_test/100000\")\n",
    "plt.ylabel(\"y_prediction_ols/100000\")\n",
    "plt.text(0, 5,'MAE='+np.array2string(mean_absolute_error(y_test, y_prediction_ols)))\n",
    "plt.show()"
   ]
  },
  {
   "cell_type": "code",
   "execution_count": 504,
   "metadata": {},
   "outputs": [
    {
     "name": "stdout",
     "output_type": "stream",
     "text": [
      "gridSearchCV, best lasso mae = -15744.482886102003\n",
      "gridSearchCV, best lasso param.= {'alpha': 40, 'fit_intercept': True}\n",
      "18318.328802273012\n"
     ]
    }
   ],
   "source": [
    "# Linear regression with Lasso regularization\n",
    "alphas1=[1,5,10,20,30,40,50,60]\n",
    "intercept=[True]\n",
    "param_grid=dict(alpha=alphas1,fit_intercept=intercept)\n",
    "lasso=linear_model.Lasso(max_iter=5000)\n",
    "\n",
    "grid = GridSearchCV(lasso, param_grid=param_grid, cv=5,scoring='neg_mean_absolute_error')\n",
    "grid.fit(x_train,y_train)\n",
    "\n",
    "print('gridSearchCV, best lasso mae =',grid.best_score_)\n",
    "print('gridSearchCV, best lasso param.=',grid.best_params_)  \n",
    "\n",
    "las=grid.best_estimator_\n",
    "y_predict=las.predict(x_test)\n",
    "print(mean_absolute_error(y_test, y_predict))"
   ]
  },
  {
   "cell_type": "code",
   "execution_count": 505,
   "metadata": {},
   "outputs": [
    {
     "data": {
      "image/png": "[encoded data removed]",
      "text/plain": [
       "<Figure size 432x288 with 1 Axes>"
      ]
     },
     "metadata": {
      "needs_background": "light"
     },
     "output_type": "display_data"
    }
   ],
   "source": [
    "# Predicted vs Actual values\n",
    "plt.scatter(y_test/100000,y_predict/100000,color='red')\n",
    "plt.plot([0,5],[0,5])\n",
    "plt.xlabel(\"y_test/100000\")\n",
    "plt.ylabel(\"y_prediction_lasso/100000\")\n",
    "plt.text(0, 5,'MAE='+np.array2string(mean_absolute_error(y_test, y_predict)))\n",
    "plt.show()"
   ]
  },
  {
   "cell_type": "code",
   "execution_count": 506,
   "metadata": {},
   "outputs": [
    {
     "name": "stdout",
     "output_type": "stream",
     "text": [
      "gridSearchCV, best ridge mae = -16499.556120659756\n",
      "gridSearchCV, best ridge param.= {'alpha': 0.2, 'fit_intercept': False}\n",
      "18734.4319861107\n"
     ]
    }
   ],
   "source": [
    "# Linear regression with Ridge regularization\n",
    "alphas1=[0.1,0.2,0.3,0.5,1,10]\n",
    "intercept=[True, False]\n",
    "param_grid=dict(alpha=alphas1,fit_intercept=intercept)\n",
    "ridge=linear_model.Ridge(max_iter=5000)\n",
    "\n",
    "grid = GridSearchCV(ridge, param_grid=param_grid, cv=5,scoring='neg_mean_absolute_error')\n",
    "grid.fit(x_train,y_train)\n",
    "\n",
    "print('gridSearchCV, best ridge mae =',grid.best_score_)\n",
    "print('gridSearchCV, best ridge param.=',grid.best_params_)  \n",
    "\n",
    "ridge=grid.best_estimator_\n",
    "y_predict=ridge.predict(x_test)\n",
    "print(mean_absolute_error(y_test, y_predict))"
   ]
  },
  {
   "cell_type": "code",
   "execution_count": 507,
   "metadata": {},
   "outputs": [
    {
     "data": {
      "image/png": "[encoded data removed]",
      "text/plain": [
       "<Figure size 432x288 with 1 Axes>"
      ]
     },
     "metadata": {
      "needs_background": "light"
     },
     "output_type": "display_data"
    }
   ],
   "source": [
    "# Predicted vs Actual values\n",
    "plt.scatter(y_test/100000,y_predict/100000,color='red')\n",
    "plt.plot([0,5],[0,5])\n",
    "plt.xlabel(\"y_test/100000\")\n",
    "plt.ylabel(\"y_prediction_ridge/100000\")\n",
    "plt.text(0, 5,'MAE='+np.array2string(mean_absolute_error(y_test, y_predict)))\n",
    "plt.show()"
   ]
  },
  {
   "cell_type": "code",
   "execution_count": null,
   "metadata": {},
   "outputs": [],
   "source": []
  }
 ],
 "metadata": {
  "kernelspec": {
   "display_name": "Python 3",
   "language": "python",
   "name": "python3"
  },
  "language_info": {
   "codemirror_mode": {
    "name": "ipython",
    "version": 3
   },
   "file_extension": ".py",
   "mimetype": "text/x-python",
   "name": "python",
   "nbconvert_exporter": "python",
   "pygments_lexer": "ipython3",
   "version": "3.5.6"
  }
 },
 "nbformat": 4,
 "nbformat_minor": 2
}
